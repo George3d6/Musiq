{
 "cells": [
  {
   "cell_type": "code",
   "execution_count": 4,
   "metadata": {
    "scrolled": true
   },
   "outputs": [],
   "source": [
    "# The packages needed\n",
    "using WAV, Knet"
   ]
  },
  {
   "cell_type": "markdown",
   "metadata": {},
   "source": [
    "Load are music data and the apropriate artist label. Filter wierdley shpaed samples and cut off samples to have the same legnth. "
   ]
  },
  {
   "cell_type": "code",
   "execution_count": 5,
   "metadata": {},
   "outputs": [
    {
     "name": "stdout",
     "output_type": "stream",
     "text": [
      "Read 146 training samples and 52 testing samples !\n"
     ]
    }
   ],
   "source": [
    "# Some constants we need to define now\n",
    "music_sample_size = 479232 #How long our \"songs\" are\n",
    "\n",
    "# Directories holding each musician's subdirectory of samples\n",
    "use_musicians = [\"satriani\", \"blakey\"]\n",
    "musician_dirs = filter(x -> x in use_musicians, readdir(\"music_samples/processed\"))\n",
    "\n",
    "# Arrays which will hold the data we read from the wav files\n",
    "X_train = Array{Array{Float32,1},1}()\n",
    "Y_train = Array{UInt16,1}()\n",
    "X_test = Array{Array{Float32,1},1}()\n",
    "Y_test = Array{UInt16,1}()\n",
    "\n",
    "# Mapping for the musician labels\n",
    "musician_mapping = Dict{String,UInt16}()\n",
    "musician_label = 0\n",
    "\n",
    "for musician in musician_dirs\n",
    "    \n",
    "    # Add musician to the label mapping, with an incrementing index\n",
    "    musician_label += 1\n",
    "    musician_mapping[musician] = musician_label\n",
    "    \n",
    "    # Read the samples for each musician into X and associate the apropriate label into Y\n",
    "    index = 0\n",
    "    for sample in readdir(\"music_samples/processed/$(musician)\")\n",
    "        values_raw, frequency = wavread(\"music_samples/processed/$(musician)/$(sample)\")\n",
    "        values_mon = values_raw[:,1]\n",
    "        if  round(rand()*4 + 1) == 3\n",
    "            if length(values_mon) >= music_sample_size\n",
    "                push!(X_test, values_mon[1:music_sample_size])\n",
    "                push!(Y_test, musician_label)\n",
    "            end\n",
    "        else\n",
    "            if length(values_mon) >= music_sample_size\n",
    "                push!(X_train, values_mon[1:music_sample_size])\n",
    "                push!(Y_train, musician_label)\n",
    "            end\n",
    "        end\n",
    "    end\n",
    "end\n",
    "println(\"Read $(length(X_train)) training samples and $(length(X_test)) testing samples !\")"
   ]
  },
  {
   "cell_type": "markdown",
   "metadata": {},
   "source": [
    "Reshpae the data into matrices"
   ]
  },
  {
   "cell_type": "code",
   "execution_count": 7,
   "metadata": {
    "scrolled": true
   },
   "outputs": [
    {
     "name": "stdout",
     "output_type": "stream",
     "text": [
      "Reshaped arrays into matices of form: Array{Float32,2} and Array{Float32,2}\n"
     ]
    }
   ],
   "source": [
    "X_test_matrix = Array{Float32,2}(hcat(X_test...))\n",
    "X_train_matrix = Array{Float32,2}(hcat(X_train...))\n",
    "println(\"Reshaped arrays into matices of form: $(typeof(X_test_matrix)) and $(typeof(X_train_matrix))\")"
   ]
  },
  {
   "cell_type": "code",
   "execution_count": 18,
   "metadata": {
    "scrolled": true
   },
   "outputs": [
    {
     "name": "stdout",
     "output_type": "stream",
     "text": [
      "Created data frames.\n"
     ]
    }
   ],
   "source": [
    "batch_size = 4\n",
    "Data_train = minibatch(X_train_matrix, Y_train, batch_size, shuffle=true)\n",
    "Data_test = minibatch(X_test_matrix, Y_test, batch_size, shuffle=true)\n",
    "println(\"Created data frames.\")"
   ]
  },
  {
   "cell_type": "code",
   "execution_count": 19,
   "metadata": {},
   "outputs": [
    {
     "data": {
      "text/plain": [
       "predict (generic function with 1 method)"
      ]
     },
     "execution_count": 19,
     "metadata": {},
     "output_type": "execute_result"
    }
   ],
   "source": [
    "function predict(Model,X)\n",
    "    for i=1:2:length(Model) - 2\n",
    "        X = tanh.(Model[i]*X .+ Model[i+1])\n",
    "    end\n",
    "    predicted = sigm.(Model[end - 1]*X .+ Model[end])\n",
    "    return predicted\n",
    "end"
   ]
  },
  {
   "cell_type": "code",
   "execution_count": 26,
   "metadata": {
    "scrolled": false
   },
   "outputs": [
    {
     "name": "stdout",
     "output_type": "stream",
     "text": [
      "Generated model matrix of type: Array{Any,1} !\n"
     ]
    }
   ],
   "source": [
    "samples = music_sample_size\n",
    "Weights = [\n",
    "    xavier(Float32,Int64(samples*2/(3*512)),samples),\n",
    "    xavier(Float32,Int64(samples/1024),Int64(samples*2/(3*512))), \n",
    "    xavier(Float32,Int64(samples/2048),Int64(samples/1024)), \n",
    "    xavier(Float32,length(use_musicians),Int64(samples/2048))\n",
    "]\n",
    "Biases = [\n",
    "    zeros(Float32,samples*2/(3*512),1),\n",
    "    zeros(Float32,samples/1024,1),\n",
    "    zeros(Float32,samples/2048,1),\n",
    "    zeros(Float32,length(use_musicians),1)\n",
    "]\n",
    "Model = Any[]\n",
    "for i = 1:length(Weights)\n",
    "    push!(Model, Weights[i])\n",
    "    push!(Model, Biases[i])\n",
    "end\n",
    "println(\"Generated model matrix of type: $(typeof(Model)) !\")"
   ]
  },
  {
   "cell_type": "code",
   "execution_count": 27,
   "metadata": {
    "scrolled": false
   },
   "outputs": [
    {
     "name": "stdout",
     "output_type": "stream",
     "text": [
      "Started training for epoch: 1\n",
      "Finished training epoch: 1\n",
      "Got accuracy: 0.6805555555555556 , on the training set\n",
      "Got accuracy: 0.5384615384615384 , on the testing set\n",
      "Started training for epoch: 2\n",
      "Finished training epoch: 2\n",
      "Got accuracy: 0.8333333333333334 , on the training set\n",
      "Got accuracy: 0.5961538461538461 , on the testing set\n",
      "Started training for epoch: 3\n",
      "Finished training epoch: 3\n",
      "Got accuracy: 0.8888888888888888 , on the training set\n",
      "Got accuracy: 0.6346153846153846 , on the testing set\n",
      "Started training for epoch: 4\n",
      "Finished training epoch: 4\n",
      "Got accuracy: 0.9513888888888888 , on the training set\n",
      "Got accuracy: 0.6538461538461539 , on the testing set\n",
      "Started training for epoch: 5\n",
      "Finished training epoch: 5\n",
      "Got accuracy: 0.9583333333333334 , on the training set\n",
      "Got accuracy: 0.6730769230769231 , on the testing set\n",
      "Started training for epoch: 6\n",
      "Finished training epoch: 6\n",
      "Got accuracy: 0.9861111111111112 , on the training set\n",
      "Got accuracy: 0.6730769230769231 , on the testing set\n",
      "Started training for epoch: 7\n"
     ]
    },
    {
     "ename": "LoadError",
     "evalue": "\u001b[91mInterruptException:\u001b[39m",
     "output_type": "error",
     "traceback": [
      "\u001b[91mInterruptException:\u001b[39m",
      "",
      "Stacktrace:",
      " [1] \u001b[1mupdate!\u001b[22m\u001b[22m\u001b[1m(\u001b[22m\u001b[22m::Array{Any,1}, ::Array{Any,1}, ::Array{Knet.Nesterov,1}\u001b[1m)\u001b[22m\u001b[22m at \u001b[1m/root/.julia/v0.6/Knet/src/update.jl:440\u001b[22m\u001b[22m",
      " [2] \u001b[1mmacro expansion\u001b[22m\u001b[22m at \u001b[1m./In[27]:15\u001b[22m\u001b[22m [inlined]",
      " [3] \u001b[1manonymous\u001b[22m\u001b[22m at \u001b[1m./<missing>:?\u001b[22m\u001b[22m"
     ]
    }
   ],
   "source": [
    "function loss(Model,X,Y_real) \n",
    "    return nll(predict(Model,X), Y_real)\n",
    "end \n",
    "\n",
    "lossgradients = grad(loss)\n",
    "\n",
    "optimizer_matrix = optimizers(Model, Nesterov)\n",
    "for epoch=1:8\n",
    "    flush(STDOUT)\n",
    "    println(\"Started training for epoch: $(epoch)\")\n",
    "    for (X,Y) in Data_train\n",
    "        # Only ever train on ~1/3 of the training data in a single epoch\n",
    "        if round(rand()*2 + 1) == 2\n",
    "            grads = lossgradients(Model,X,Y)\n",
    "            update!(Model, grads, optimizer_matrix)\n",
    "        end\n",
    "    end\n",
    "    println(\"Finished training epoch: $(epoch)\")\n",
    "    println(\"Got accuracy: $(accuracy(Model, Data_train, predict)) , on the training set\")\n",
    "    println(\"Got accuracy: $(accuracy(Model, Data_test, predict)) , on the testing set\")\n",
    "end"
   ]
  },
  {
   "cell_type": "code",
   "execution_count": null,
   "metadata": {},
   "outputs": [],
   "source": []
  },
  {
   "cell_type": "code",
   "execution_count": null,
   "metadata": {},
   "outputs": [],
   "source": []
  }
 ],
 "metadata": {
  "kernelspec": {
   "display_name": "Julia 0.6.2",
   "language": "julia",
   "name": "julia-0.6"
  },
  "language_info": {
   "file_extension": ".jl",
   "mimetype": "application/julia",
   "name": "julia",
   "version": "0.6.2"
  }
 },
 "nbformat": 4,
 "nbformat_minor": 2
}
