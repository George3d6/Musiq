{
 "cells": [
  {
   "cell_type": "code",
   "execution_count": 12,
   "metadata": {},
   "outputs": [
    {
     "ename": "LoadError",
     "evalue": "\u001b[91mArgumentError: Module LossFunctions not found in current path.\nRun `Pkg.add(\"LossFunctions\")` to install the LossFunctions package.\u001b[39m",
     "output_type": "error",
     "traceback": [
      "\u001b[91mArgumentError: Module LossFunctions not found in current path.\nRun `Pkg.add(\"LossFunctions\")` to install the LossFunctions package.\u001b[39m",
      "",
      "Stacktrace:",
      " [1] \u001b[1m_require\u001b[22m\u001b[22m\u001b[1m(\u001b[22m\u001b[22m::Symbol\u001b[1m)\u001b[22m\u001b[22m at \u001b[1m./loading.jl:435\u001b[22m\u001b[22m",
      " [2] \u001b[1mrequire\u001b[22m\u001b[22m\u001b[1m(\u001b[22m\u001b[22m::Symbol\u001b[1m)\u001b[22m\u001b[22m at \u001b[1m./loading.jl:405\u001b[22m\u001b[22m"
     ]
    }
   ],
   "source": [
    "using WAV, LossFunctions"
   ]
  },
  {
   "cell_type": "code",
   "execution_count": 2,
   "metadata": {},
   "outputs": [
    {
     "name": "stdout",
     "output_type": "stream",
     "text": [
      "Loaded 95 samples !\n"
     ]
    }
   ],
   "source": [
    "music_sample_size = 479232\n",
    "sample_frequency = 16000\n",
    "batch_size = 5\n",
    "\n",
    "function load_data()\n",
    "    X = Array{Array{Float32,1},1}()\n",
    "    for musician in [\"satriani\"]\n",
    "        for sample in readdir(\"/mnt/data/other/music_samples/processed/$(musician)\")\n",
    "            values_raw, fq = wavread(\"/mnt/data/other/music_samples/processed/$(musician)/$(sample)\")\n",
    "            if length(values_raw[:,1]) >= music_sample_size\n",
    "                push!(X, values_raw[:,1][1:music_sample_size])\n",
    "            end\n",
    "        end\n",
    "    end\n",
    "    Array{Float32,2}(hcat(X...))\n",
    "end\n",
    "\n",
    "X = load_data()\n",
    "println(\"Loaded $(length(X[1,:])) samples !\")"
   ]
  },
  {
   "cell_type": "code",
   "execution_count": 3,
   "metadata": {},
   "outputs": [
    {
     "data": {
      "text/plain": [
       "create_generator (generic function with 1 method)"
      ]
     },
     "execution_count": 3,
     "metadata": {},
     "output_type": "execute_result"
    }
   ],
   "source": [
    "function create_D()\n",
    "    samples = music_sample_size\n",
    "    Weights = [\n",
    "        xavier(Float32,Int64(samples*2/(3*512)),samples),\n",
    "        xavier(Float32,Int64(samples/1024),Int64(samples*2/(3*512))), \n",
    "        xavier(Float32,Int64(samples/2048),Int64(samples/1024)), \n",
    "        xavier(Float32,2,Int64(samples/2048))\n",
    "    ]\n",
    "    Biases = [\n",
    "        zeros(Float32,samples*2/(3*512),1),\n",
    "        zeros(Float32,samples/1024,1),\n",
    "        zeros(Float32,samples/2048,1),\n",
    "        zeros(Float32,2,1)\n",
    "    ]\n",
    "    return Weights, Biases\n",
    "end\n",
    "\n",
    "function create_G()\n",
    "    granularity = 64\n",
    "    oscilators = 80\n",
    "    samples = music_sample_size\n",
    "    Weights = [\n",
    "        xavier(Float32,Int64(oscilators * granularity), Int64(oscilators * granularity)),\n",
    "        xavier(Float32,Int64(oscilators * granularity / 2), Int64(oscilators * granularity)), \n",
    "        xavier(Float32,Int64(oscilators * granularity / 4), Int64(oscilators * granularity / 2)), \n",
    "        xavier(Float32,Int64(oscilators * granularity), Int64(oscilators * granularity / 4))\n",
    "    ]\n",
    "    Biases = [\n",
    "        xavier(Float32,Int64(oscilators * granularity), 1),\n",
    "        xavier(Float32,Int64(oscilators * granularity / 2), 1),\n",
    "        xavier(Float32,Int64(oscilators * granularity / 4), 1),\n",
    "        xavier(Float32,Int64(oscilators * granularity), 1)\n",
    "    ]\n",
    "    return Weights, Biases, granularity, granularity\n",
    "end"
   ]
  },
  {
   "cell_type": "code",
   "execution_count": 13,
   "metadata": {},
   "outputs": [
    {
     "data": {
      "text/plain": [
       "dsoftmax (generic function with 1 method)"
      ]
     },
     "execution_count": 13,
     "metadata": {},
     "output_type": "execute_result"
    }
   ],
   "source": [
    "lReLu(x;α=Float32(0.3)) = max(0,x) + α*min(0,x)\n",
    "dlReLu(x;α=Float32(0.3)) = x < 0 ? α : 1\n",
    "\n",
    "softmax(x) = exp(x)./sum(exp(x))\n",
    "dsoftmax(x) =x.*(1.0-x)"
   ]
  },
  {
   "cell_type": "code",
   "execution_count": null,
   "metadata": {},
   "outputs": [],
   "source": [
    "global const ε = Float32(1e-7)\n",
    "\n",
    "function forward_prop_d(W,B,X)\n",
    "    for i=1:length(W) - 1\n",
    "        X = lReLu.(W[i]*X .+ B[i])\n",
    "    end\n",
    "    softmax.(W[end]*X .+ B[end])\n",
    "end\n",
    "\n",
    "Jd(W,B,X,X_fake) = -mean(log.(forward_prop_d(W,B,X) + ε) + log.(1 - forward_prop_d(W,B,X_fake) + ε))\n",
    "Jg(Wg,Bg,Wd,Bd,X) = -mean(log.(forward_prop_d(Wd,Bd,forward_prop_g(Wg,Bg,X)) + ε))\n",
    "\n",
    "function backward_prop_d(W,B,X,X_fake)\n",
    "    loss = Jd(W,B,X,X_fake)\n",
    "    \n",
    "    Errors = Vector()\n",
    "    push!(Errors, loss)\n",
    "    \n",
    "    push!(Errors, (W[end]*Errors[end]).*dsoftmax().*)\n",
    "    \n",
    "    E = softmax.(W[end]*X .+ B[end])\n",
    "    for i=reverse(1:length(W) - 1)\n",
    "        push!(Errors, W[end] - loss)\n",
    "        X = lReLu.(W[i]*X .+ B[i])\n",
    "    end\n",
    "    \n",
    "end\n",
    "\n",
    "function forward_prop_g(W,B,X)\n",
    "    for i=1:length(W) - 1\n",
    "        X = lReLu.(W[i]*X .+ B[i])\n",
    "    end\n",
    "    softmax.(W[end]*X .+ B[end])\n",
    "    \n",
    "    # Create the actual music using the values\n",
    "    for i=1:nr_smaples\n",
    "        vals = [] \n",
    "        for sample_nr=0:oscilators:oscilators*(granularity - 1)\n",
    "            push!(vals, Z[(sample_nr + 1):(sample_nr + oscilators), i])        \n",
    "        end\n",
    "\n",
    "        for si=1:music_sample_size\n",
    "            oi = 1\n",
    "            for v in vals[Int64(round(1 + si/music_sample_size * (granularity -1) ))]\n",
    "                samples[si, i] += sin(si*(oi^(2.3))/16000)*v\n",
    "                oi += 1\n",
    "            end\n",
    "            samples[si, i] = samples[si, i]/oscilators\n",
    "        end\n",
    "    end\n",
    "    return samples\n",
    "end"
   ]
  }
 ],
 "metadata": {
  "kernelspec": {
   "display_name": "Julia 0.6.2",
   "language": "julia",
   "name": "julia-0.6"
  },
  "language_info": {
   "file_extension": ".jl",
   "mimetype": "application/julia",
   "name": "julia",
   "version": "0.6.2"
  }
 },
 "nbformat": 4,
 "nbformat_minor": 2
}
