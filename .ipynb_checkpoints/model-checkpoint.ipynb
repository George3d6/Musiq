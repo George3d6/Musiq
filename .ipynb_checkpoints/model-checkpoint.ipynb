{
 "cells": [
  {
   "cell_type": "code",
   "execution_count": 1,
   "metadata": {
    "scrolled": true
   },
   "outputs": [],
   "source": [
    "using WAV, Knet"
   ]
  },
  {
   "cell_type": "code",
   "execution_count": 2,
   "metadata": {},
   "outputs": [
    {
     "name": "stdout",
     "output_type": "stream",
     "text": [
      "Finished loading data !\n"
     ]
    }
   ],
   "source": [
    "music_sample_size = 479232\n",
    "sample_frequency = 16000\n",
    "batch_size = 5\n",
    "\n",
    "function load_data()\n",
    "    X = Array{Array{Float32,1},1}()\n",
    "    for musician in [\"satriani\"]\n",
    "        for sample in readdir(\"/mnt/data/other/music_samples/processed/$(musician)\")\n",
    "            values_raw, fq = wavread(\"/mnt/data/other/music_samples/processed/$(musician)/$(sample)\")\n",
    "            if length(values_raw[:,1]) >= music_sample_size\n",
    "                push!(X, values_raw[:,1][1:music_sample_size])\n",
    "            end\n",
    "        end\n",
    "    end\n",
    "    Array{Float32,2}(hcat(X...))\n",
    "end\n",
    "\n",
    "X = load_data()\n",
    "println(\"Finished loading data !\")"
   ]
  },
  {
   "cell_type": "markdown",
   "metadata": {},
   "source": [
    "We don't need labels anymore, since we only need to label \"fake\" and \"real\" and all the samples are real"
   ]
  },
  {
   "cell_type": "code",
   "execution_count": 3,
   "metadata": {},
   "outputs": [
    {
     "data": {
      "text/plain": [
       "create_generator (generic function with 1 method)"
      ]
     },
     "execution_count": 3,
     "metadata": {},
     "output_type": "execute_result"
    }
   ],
   "source": [
    "function create_discriminator()\n",
    "    samples = music_sample_size\n",
    "    Weights = [\n",
    "        xavier(Float32,Int64(samples*2/(3*512)),samples),\n",
    "        xavier(Float32,Int64(samples/1024),Int64(samples*2/(3*512))), \n",
    "        xavier(Float32,Int64(samples/2048),Int64(samples/1024)), \n",
    "        xavier(Float32,2,Int64(samples/2048))\n",
    "    ]\n",
    "    Biases = [\n",
    "        zeros(Float32,samples*2/(3*512),1),\n",
    "        zeros(Float32,samples/1024,1),\n",
    "        zeros(Float32,samples/2048,1),\n",
    "        zeros(Float32,2,1)\n",
    "    ]\n",
    "    Model = Any[]\n",
    "    for i = 1:length(Weights)\n",
    "        push!(Model, Weights[i])\n",
    "        push!(Model, Biases[i])\n",
    "    end\n",
    "    return Model\n",
    "end\n",
    "\n",
    "function create_generator()\n",
    "    granularity = 64\n",
    "    oscilators = 80\n",
    "    samples = music_sample_size\n",
    "    Weights = [\n",
    "        xavier(Float32,Int64(oscilators * granularity), Int64(oscilators * granularity)),\n",
    "        xavier(Float32,Int64(oscilators * granularity / 2), Int64(oscilators * granularity)), \n",
    "        xavier(Float32,Int64(oscilators * granularity / 4), Int64(oscilators * granularity / 2)), \n",
    "        xavier(Float32,Int64(oscilators * granularity), Int64(oscilators * granularity / 4))\n",
    "    ]\n",
    "    Biases = [\n",
    "        xavier(Float32,Int64(oscilators * granularity), 1),\n",
    "        xavier(Float32,Int64(oscilators * granularity / 2), 1),\n",
    "        xavier(Float32,Int64(oscilators * granularity / 4), 1),\n",
    "        xavier(Float32,Int64(oscilators * granularity), 1)\n",
    "    ]\n",
    "    Model = Any[]\n",
    "    for i = 1:length(Weights)\n",
    "        push!(Model, Weights[i])\n",
    "        push!(Model, Biases[i])\n",
    "    end\n",
    "    return Model\n",
    "end"
   ]
  },
  {
   "cell_type": "code",
   "execution_count": 10,
   "metadata": {},
   "outputs": [
    {
     "data": {
      "text/plain": [
       "generate (generic function with 2 methods)"
      ]
     },
     "execution_count": 10,
     "metadata": {},
     "output_type": "execute_result"
    }
   ],
   "source": [
    "leakyrelu(x;α=Float32(0.2)) = max(0,x) + α*min(0,x)\n",
    "\n",
    "function discriminate(Model,X)\n",
    "    for i=1:2:length(Model) - 2\n",
    "        X = leakyrelu.(Model[i]*X .+ Model[i+1])\n",
    "    end\n",
    "    labels = sigm.(Model[end - 1]*X .+ Model[end])\n",
    "    return labels\n",
    "end\n",
    "\n",
    "granularity = 64\n",
    "oscilators = 80\n",
    "function generate(Model, Z=nothing; nr_smaples=5)\n",
    "    if Z == nothing\n",
    "       Z = Array(xavier(Float32, granularity*oscilators, nr_smaples)) \n",
    "    end\n",
    "    for i=1:2:length(Model) - 2\n",
    "        Z = leakyrelu.(Model[i]*Z .+ Model[i+1])\n",
    "    end\n",
    "    Z = sigm.(Model[end - 1]*Z .+ Model[end])\n",
    "    \n",
    "    if \"$(typeof(Z[1,1]))\" == \"AutoGrad.Rec{Float32}\" || \"$(typeof(Z[1,1]))\" ==\"AutoGrad.Rec{Float64}\"\n",
    "        println(\"Reutnring here bcause Z has type: $(typeof(Z[1,1]))\")\n",
    "        return Z \n",
    "    end\n",
    "    \n",
    "    println(\"Going forward with sampling\")\n",
    "    \n",
    "    samples = Array(zeros(Float32, music_sample_size, nr_smaples))\n",
    "    \n",
    "    for i=1:nr_smaples\n",
    "        vals = [] \n",
    "        for sample_nr=0:oscilators:oscilators*(granularity - 1)\n",
    "            push!(vals, Z[(sample_nr + 1):(sample_nr + oscilators), i])        \n",
    "        end\n",
    "\n",
    "        for si=1:music_sample_size\n",
    "            oi = 1\n",
    "            for v in vals[Int64(round(1 + si/music_sample_size * (granularity -1) ))]\n",
    "                samples[si, i] += sin(si*(oi^(2.3))/16000)*v\n",
    "                oi += 1\n",
    "            end\n",
    "            samples[si, i] = samples[si, i]/oscilators\n",
    "        end\n",
    "    end\n",
    "    return samples\n",
    "end"
   ]
  },
  {
   "cell_type": "code",
   "execution_count": 11,
   "metadata": {
    "scrolled": true
   },
   "outputs": [
    {
     "name": "stdout",
     "output_type": "stream",
     "text": [
      "Going forward with sampling\n"
     ]
    },
    {
     "ename": "LoadError",
     "evalue": "\u001b[91mInterruptException:\u001b[39m",
     "output_type": "error",
     "traceback": [
      "\u001b[91mInterruptException:\u001b[39m",
      "",
      "Stacktrace:",
      " [1] \u001b[1m#generate#36\u001b[22m\u001b[22m\u001b[1m(\u001b[22m\u001b[22m::Int64, ::Function, ::Array{Any,1}, ::Void\u001b[1m)\u001b[22m\u001b[22m at \u001b[1m./In[10]:40\u001b[22m\u001b[22m",
      " [2] \u001b[1m(::#kw##generate)\u001b[22m\u001b[22m\u001b[1m(\u001b[22m\u001b[22m::Array{Any,1}, ::#generate, ::Array{Any,1}, ::Void\u001b[1m)\u001b[22m\u001b[22m at \u001b[1m./<missing>:0\u001b[22m\u001b[22m",
      " [3] \u001b[1msave_samples\u001b[22m\u001b[22m\u001b[1m(\u001b[22m\u001b[22m::Int64\u001b[1m)\u001b[22m\u001b[22m at \u001b[1m./In[11]:26\u001b[22m\u001b[22m"
     ]
    },
    {
     "name": "stderr",
     "output_type": "stream",
     "text": [
      "\u001b[91mERROR (unhandled task failure): \u001b[91mInterruptException:\u001b[39m\n",
      "Stacktrace:\u001b[39m\u001b[91mERROR (unhandled task failure): \u001b[91mInterruptException:\u001b[39m\n",
      "\u001b[39m"
     ]
    }
   ],
   "source": [
    "D = create_discriminator()\n",
    "G = create_generator()\n",
    "\n",
    "global const ε =Float32(1e-8)\n",
    "\n",
    "Ld(D,X,XF) = -mean(log.(discriminate(D,X) + ε) + log.(1-discriminate(D,XF) + ε))/2\n",
    "∇d = grad(Ld)\n",
    "\n",
    "function Lg(G,D)\n",
    "    println(\"0\")\n",
    "    generate_samples = generate(G, nr_smaples=batch_size)\n",
    "    println(\"1\")\n",
    "    results = discriminate(D,generate_samples)+ ε\n",
    "    println(\"2\")\n",
    "    -mean(log.(results))\n",
    "end\n",
    "\n",
    "∇g = grad(Lg)\n",
    "\n",
    "optimizers_d = optimizers(D, Adam)\n",
    "optimizers_g = optimizers(G, Adam)\n",
    "\n",
    "\n",
    "function save_samples(epoch)\n",
    "    samples = generate(G,nr_smaples=2)\n",
    "    for i=1:length(samples[1,:])\n",
    "        wavwrite(samples[:,i], 16000, \"/mnt/data/other/music_samples/generated/epoch-$(epoch)-nr-$(i).wav\")\n",
    "    end\n",
    "end\n",
    "\n",
    "save_samples(0)\n",
    "for epoch=1:15\n",
    "    println(\"Started training for epoch: $(epoch)\")\n",
    "    for i=1:5:40 #length(X[1,:])\n",
    "        ∇D = ∇d(D,X[:, i:i+4],generate(G, nr_smaples=batch_size))\n",
    "        update!(D, ∇D, optimizers_d)\n",
    "        for i=1:5\n",
    "            ∇G = ∇g(G,D)\n",
    "            update!(G, ∇G, optimizers_g)\n",
    "        end\n",
    "    end\n",
    "    println(\"Printing some random neurons from G: $(G[1][12])  | $(G[2][77]) | $(G[3][22]) | $(G[4][19]) And the sum of two layers: $(sum(G[1])), $(sum(G[6]))\")\n",
    "    println(\"Printing some random neurons from D: $(D[1][12])  | $(D[2][77]) | $(D[3][22]) | $(D[4][19]) And the sum of two layers: $(sum(D[1])), $(sum(D[6]))\")\n",
    "    println(\"Finished training epoch: $(epoch)\")\n",
    "    save_samples(epoch)\n",
    "    flush(STDOUT)\n",
    "end"
   ]
  },
  {
   "cell_type": "markdown",
   "metadata": {},
   "source": [
    "For how grad works, check: https://github.com/denizyuret/AutoGrad.jl/blob/master/src/core.jl\n",
    "Reference GAN: https://github.com/George3d6/GAN-70-Lines-of-Julia"
   ]
  }
 ],
 "metadata": {
  "kernelspec": {
   "display_name": "Julia 0.6.2",
   "language": "julia",
   "name": "julia-0.6"
  },
  "language_info": {
   "file_extension": ".jl",
   "mimetype": "application/julia",
   "name": "julia",
   "version": "0.6.2"
  }
 },
 "nbformat": 4,
 "nbformat_minor": 2
}
