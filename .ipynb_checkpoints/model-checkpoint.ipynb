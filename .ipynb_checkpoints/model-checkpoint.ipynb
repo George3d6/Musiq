{
 "cells": [
  {
   "cell_type": "code",
   "execution_count": 1,
   "metadata": {
    "scrolled": true
   },
   "outputs": [],
   "source": [
    "using WAV, Knet"
   ]
  },
  {
   "cell_type": "code",
   "execution_count": 2,
   "metadata": {},
   "outputs": [
    {
     "data": {
      "text/plain": [
       "load_musician_dataset (generic function with 1 method)"
      ]
     },
     "execution_count": 2,
     "metadata": {},
     "output_type": "execute_result"
    }
   ],
   "source": [
    "music_sample_size = 479232\n",
    "sample_frequency = 16000\n",
    "batch_size = 12\n",
    "\n",
    "function load_musician_dataset()\n",
    "    # Some constants we need to define now\n",
    "    music_sample_size = 479232 #How long our \"songs\" are\n",
    "\n",
    "    # Directories holding each musician's subdirectory of samples\n",
    "    use_musicians = [\"satriani\"]\n",
    "    musician_dirs = filter(x -> x in use_musicians, readdir(\"/mnt/data/other/music_samples/processed/\"))\n",
    "\n",
    "    # Arrays which will hold the data we read from the wav files\n",
    "    X_train = Array{Array{Float32,1},1}()\n",
    "    Y_train = Array{UInt16,1}()\n",
    "    X_test = Array{Array{Float32,1},1}()\n",
    "    Y_test = Array{UInt16,1}()\n",
    "\n",
    "    # Mapping for the musician labels\n",
    "    musician_mapping = Dict{String,UInt16}()\n",
    "    musician_label = 0\n",
    "\n",
    "    for musician in musician_dirs\n",
    "\n",
    "        # Add musician to the label mapping, with an incrementing index\n",
    "        musician_label += 1\n",
    "        musician_mapping[musician] = musician_label\n",
    "       \n",
    "        # Read the samples for each musician into X and associate the apropriate label into Y\n",
    "        index = 0\n",
    "        for sample in readdir(\"/mnt/data/other/music_samples/processed/$(musician)\")\n",
    "            values_raw, fq = wavread(\"/mnt/data/other/music_samples/processed/$(musician)/$(sample)\")\n",
    "            values_mon = values_raw[:,1]\n",
    "            if  round(rand()*7 + 1) == 3\n",
    "                if length(values_mon) >= music_sample_size\n",
    "                    push!(X_test, values_mon[1:music_sample_size])\n",
    "                    push!(Y_test, musician_label)\n",
    "                end\n",
    "            else\n",
    "                if length(values_mon) >= music_sample_size\n",
    "                    push!(X_train, values_mon[1:music_sample_size])\n",
    "                    push!(Y_train, musician_label)\n",
    "                end\n",
    "            end\n",
    "        end\n",
    "    end\n",
    "    \n",
    "    X_test_matrix = Array{Float32,2}(hcat(X_test...))\n",
    "    X_train_matrix = Array{Float32,2}(hcat(X_train...))\n",
    "    \n",
    "    return minibatch(X_train_matrix, Y_train, batch_size, shuffle=true), minibatch(X_test_matrix, Y_test, batch_size, shuffle=true)\n",
    "end"
   ]
  },
  {
   "cell_type": "code",
   "execution_count": 3,
   "metadata": {},
   "outputs": [
    {
     "data": {
      "text/plain": [
       "(Knet.MB(Float32[0.0 0.1377 … -0.0993988 -0.104984; 0.0 0.104648 … -0.0798669 -0.115879; … ; 0.196844 -0.119938 … -0.169195 0.000183111; 0.121464 -0.120945 … -0.170507 -0.000122074], UInt16[0x0001 0x0001 … 0x0001 0x0001], 12, 83, false, [60, 82, 57, 29, 75, 34, 6, 41, 18, 47  …  26, 7, 64, 67, 20, 73, 36, 50, 31, 38], [479232, 83], [83], Array{Float32,2}, Array{UInt16,1}), Knet.MB(Float32[0.106998 -0.098178 … -0.100131 -0.0415967; 0.255898 -0.0116581 … -0.0743431 -0.131138; … ; -0.355144 -0.0723899 … -0.437269 -0.148717; -0.471267 0.0218818 … -0.102206 -0.149327], UInt16[0x0001 0x0001 … 0x0001 0x0001], 12, 12, false, [6, 5, 4, 9, 2, 7, 3, 8, 12, 10, 1, 11], [479232, 12], [12], Array{Float32,2}, Array{UInt16,1}))"
      ]
     },
     "execution_count": 3,
     "metadata": {},
     "output_type": "execute_result"
    }
   ],
   "source": [
    "Dtrain, Dtest = load_musician_dataset()"
   ]
  },
  {
   "cell_type": "code",
   "execution_count": 4,
   "metadata": {},
   "outputs": [
    {
     "data": {
      "text/plain": [
       "create_generator (generic function with 1 method)"
      ]
     },
     "execution_count": 4,
     "metadata": {},
     "output_type": "execute_result"
    }
   ],
   "source": [
    "function create_discriminator()\n",
    "    samples = music_sample_size\n",
    "    Weights = [\n",
    "        xavier(Float32,Int64(samples*2/(3*512)),samples),\n",
    "        xavier(Float32,Int64(samples/1024),Int64(samples*2/(3*512))), \n",
    "        xavier(Float32,Int64(samples/2048),Int64(samples/1024)), \n",
    "        xavier(Float32,2,Int64(samples/2048))\n",
    "    ]\n",
    "    Biases = [\n",
    "        zeros(Float32,samples*2/(3*512),1),\n",
    "        zeros(Float32,samples/1024,1),\n",
    "        zeros(Float32,samples/2048,1),\n",
    "        zeros(Float32,2,1)\n",
    "    ]\n",
    "    Model = Any[]\n",
    "    for i = 1:length(Weights)\n",
    "        push!(Model, Weights[i])\n",
    "        push!(Model, Biases[i])\n",
    "    end\n",
    "    Model\n",
    "end\n",
    "\n",
    "function create_generator()\n",
    "    granularity = 64\n",
    "    oscilators = 80\n",
    "    samples = music_sample_size\n",
    "    Weights = [\n",
    "        xavier(Float32,Int64(oscilators * granularity), Int64(oscilators * granularity)),\n",
    "        xavier(Float32,Int64(oscilators * granularity / 2), Int64(oscilators * granularity)), \n",
    "        xavier(Float32,Int64(oscilators * granularity / 4), Int64(oscilators * granularity / 2)), \n",
    "        xavier(Float32,Int64(oscilators * granularity), Int64(oscilators * granularity / 4))\n",
    "    ]\n",
    "    Biases = [\n",
    "        zeros(Float32,Int64(oscilators * granularity), 1),\n",
    "        zeros(Float32,Int64(oscilators * granularity / 2), 1),\n",
    "        zeros(Float32,Int64(oscilators * granularity / 4), 1),\n",
    "        zeros(Float32,Int64(oscilators * granularity), 1)\n",
    "    ]\n",
    "    Model = Any[]\n",
    "    for i = 1:length(Weights)\n",
    "        push!(Model, Weights[i])\n",
    "        push!(Model, Biases[i])\n",
    "    end\n",
    "    Model\n",
    "end"
   ]
  },
  {
   "cell_type": "code",
   "execution_count": 40,
   "metadata": {},
   "outputs": [
    {
     "data": {
      "text/plain": [
       "generate (generic function with 2 methods)"
      ]
     },
     "execution_count": 40,
     "metadata": {},
     "output_type": "execute_result"
    }
   ],
   "source": [
    "function discriminate(Model,X)\n",
    "    for i=1:2:length(Model) - 2\n",
    "        X = tanh.(Model[i]*X .+ Model[i+1])\n",
    "    end\n",
    "    labels = tanh.(Model[end - 1]*X .+ Model[end])\n",
    "    return labels\n",
    "end\n",
    "#=\n",
    "function generate(Model, batch_size)\n",
    "    Z = Array(randn(Float32, music_sample_size, batch_size))\n",
    "    for i=1:2:length(Model) - 2\n",
    "        Z = tanh.(Model[i]*Z .+ Model[i+1])\n",
    "    end\n",
    "    labels = tanh.(Model[end - 1]*Z .+ Model[end])\n",
    "    return labels\n",
    "end\n",
    "=#\n",
    "granularity = 64\n",
    "oscilators = 80\n",
    "function generate(Model, bs)\n",
    "    Z = Array(zeros(Float32, granularity*oscilators, 1)) + 0.1\n",
    "    \n",
    "    for i=1:2:length(Model) - 2\n",
    "        Z = tanh.(Model[i]*Z .+ Model[i+1])\n",
    "    end\n",
    "    Z = tanh.(Model[end - 1]*Z .+ Model[end])\n",
    "    \n",
    "    samples = Array(zeros(Float32, music_sample_size, 1))\n",
    "    \n",
    "    vals = [] \n",
    "    for sample_nr=0:oscilators:oscilators*(granularity - 1)\n",
    "        push!(vals, Z[(sample_nr + 1):(sample_nr + oscilators)])        \n",
    "    end\n",
    "    \n",
    "    for si=1:music_sample_size\n",
    "        for v in vals[Int64(round(1 + si/music_sample_size * (granularity -1) ))]\n",
    "            samples[si] += sin(si*v/sample_frequency)\n",
    "        end\n",
    "        samples[si] = samples[si]/oscilators\n",
    "    end\n",
    "    return hcat(samples,samples,samples,samples)\n",
    "end\n"
   ]
  },
  {
   "cell_type": "code",
   "execution_count": 47,
   "metadata": {},
   "outputs": [
    {
     "name": "stdout",
     "output_type": "stream",
     "text": [
      "Started training for epoch: 1\n"
     ]
    },
    {
     "ename": "LoadError",
     "evalue": "\u001b[91mDimensionMismatch(\"x has length 299040768, but y has length 26214400\")\u001b[39m",
     "output_type": "error",
     "traceback": [
      "\u001b[91mDimensionMismatch(\"x has length 299040768, but y has length 26214400\")\u001b[39m",
      "",
      "Stacktrace:",
      " [1] \u001b[1maxpy!\u001b[22m\u001b[22m\u001b[1m(\u001b[22m\u001b[22m::Float64, ::Array{Float32,2}, ::Array{Float32,2}\u001b[1m)\u001b[22m\u001b[22m at \u001b[1m./linalg/blas.jl:443\u001b[22m\u001b[22m",
      " [2] \u001b[1mupdate!\u001b[22m\u001b[22m\u001b[1m(\u001b[22m\u001b[22m::Array{Float32,2}, ::Array{Float32,2}, ::Knet.Nesterov\u001b[1m)\u001b[22m\u001b[22m at \u001b[1m/root/.julia/v0.6/Knet/src/update.jl:375\u001b[22m\u001b[22m",
      " [3] \u001b[1mupdate!\u001b[22m\u001b[22m\u001b[1m(\u001b[22m\u001b[22m::Array{Any,1}, ::Array{Any,1}, ::Array{Knet.Nesterov,1}\u001b[1m)\u001b[22m\u001b[22m at \u001b[1m/root/.julia/v0.6/Knet/src/update.jl:441\u001b[22m\u001b[22m",
      " [4] \u001b[1mmacro expansion\u001b[22m\u001b[22m at \u001b[1m./In[47]:46\u001b[22m\u001b[22m [inlined]",
      " [5] \u001b[1manonymous\u001b[22m\u001b[22m at \u001b[1m./<missing>:?\u001b[22m\u001b[22m"
     ]
    }
   ],
   "source": [
    "D = create_discriminator()\n",
    "G = create_generator()\n",
    "\n",
    "function loss_d(D,X,Y_real) \n",
    "    return nll(discriminate(D,X), Y_real)\n",
    "end \n",
    "\n",
    "lossgradients_d = grad(loss_d)\n",
    "\n",
    "function loss_g(D,FS,TY)\n",
    "    return nll(discriminate(D,FS), TY)\n",
    "end\n",
    "\n",
    "lossgradients_g = grad(loss_g)\n",
    "\n",
    "optimizers_d = optimizers(D, Nesterov)\n",
    "optimizers_g = optimizers(G, Nesterov)\n",
    "\n",
    "\n",
    "function save_samples(epoch)\n",
    "    samples = generate(G, 5)\n",
    "    for i=1:length(samples[1,:])\n",
    "        wavwrite(samples[:,i], 16000, \"/mnt/data/other/music_samples/generated/epoch-$(epoch)-nr-$(i).wav\")\n",
    "        println(\"Generated a sample !\")\n",
    "    end\n",
    "end\n",
    "\n",
    "for epoch=1:20\n",
    "    println(\"Started training for epoch: $(epoch)\")\n",
    "    \n",
    "    for (X,Y) in Dtrain\n",
    "        \n",
    "        fake_samples = generate(G, batch_size)\n",
    "        fake_Y = zeros(UInt16, length(fake_samples[1,:]))\n",
    "        \n",
    "        X = hcat(X, fake_samples)\n",
    "        Y = vcat(Y, fake_Y)\n",
    "        \n",
    "        GD = lossgradients_d(D,X,Y)\n",
    "        \n",
    "        fake_samples = generate(G, 4)\n",
    "        wannabe_Y = [UInt16(1),UInt16(1),UInt16(1),UInt16(1)]\n",
    "        GG = lossgradients_g(D,fake_samples, wannabe_Y)\n",
    "        \n",
    "        update!(D, GD , optimizers_d)\n",
    "        update!(G, GG , optimizers_g)\n",
    "        save_samples(epoch)\n",
    "    end\n",
    "    \n",
    "    println(\"Finished training epoch: $(epoch)\")\n",
    "    println(\"Got accuracy: $(accuracy(D, Dtrain, discriminate)) , on the training set\")\n",
    "    save_samples(epoch)\n",
    "    flush(STDOUT)\n",
    "end"
   ]
  },
  {
   "cell_type": "code",
   "execution_count": null,
   "metadata": {},
   "outputs": [],
   "source": []
  }
 ],
 "metadata": {
  "kernelspec": {
   "display_name": "Julia 0.6.2",
   "language": "julia",
   "name": "julia-0.6"
  },
  "language_info": {
   "file_extension": ".jl",
   "mimetype": "application/julia",
   "name": "julia",
   "version": "0.6.2"
  }
 },
 "nbformat": 4,
 "nbformat_minor": 2
}
