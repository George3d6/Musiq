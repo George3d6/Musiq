{
 "cells": [
  {
   "cell_type": "code",
   "execution_count": 1,
   "metadata": {
    "scrolled": true
   },
   "outputs": [],
   "source": [
    "using WAV, Knet"
   ]
  },
  {
   "cell_type": "code",
   "execution_count": 2,
   "metadata": {},
   "outputs": [
    {
     "data": {
      "text/plain": [
       "479232×95 Array{Float32,2}:\n",
       " 0.0         0.1377      -0.0639058   …  -0.0993988   -0.104984   \n",
       " 0.0         0.104648    -0.0940275      -0.0798669   -0.115879   \n",
       " 0.0         0.0352794   -0.206671       -0.0525529   -0.125553   \n",
       " 0.0         0.0253609   -0.241523       -0.0338755   -0.135533   \n",
       " 0.0        -0.0348216   -0.282113       -0.00335704  -0.137852   \n",
       " 0.0         0.130985    -0.349956    …   0.0128178   -0.136113   \n",
       " 0.0         0.159062    -0.251076        0.024781    -0.143345   \n",
       " 0.0         0.160314    -0.0500198       0.038667    -0.151585   \n",
       " 0.0         0.0520341    0.0230415       0.0429701   -0.149998   \n",
       " 0.0         0.156652    -0.0125431       0.0480361   -0.153569   \n",
       " 0.0         0.0842311   -0.0633564   …   0.0591754   -0.162877   \n",
       " 0.0        -0.0530106   -0.00817896      0.0581378   -0.167699   \n",
       " 0.0         0.0857265    0.120518        0.0435194   -0.17011    \n",
       " ⋮                                    ⋱                           \n",
       " 0.239967   -0.180181    -0.0823084   …  -0.0767235    0.000244148\n",
       " 0.535447   -0.140019     0.0211798      -0.0869167    0.000549333\n",
       " 0.294992   -0.104099     0.0358592      -0.0979339    0.000274667\n",
       " 0.387219   -0.05356      0.0220649      -0.108676     0.0        \n",
       " 0.251534    0.0123295    0.198065       -0.125431    -0.00061037 \n",
       " 0.274087    0.00793481   0.28254     …  -0.133366    -0.000518815\n",
       " 0.299631   -0.0375072    0.115848       -0.142491     0.000518815\n",
       " 0.0787988  -0.143223     0.00439467     -0.155583     0.000335704\n",
       " 0.213202   -0.174169    -0.121281       -0.162511    -0.000122074\n",
       " 0.0132145  -0.115787    -0.14539        -0.168279     0.00021363 \n",
       " 0.196844   -0.119938    -0.106326    …  -0.169195     0.000183111\n",
       " 0.121464   -0.120945     0.0429701      -0.170507    -0.000122074"
      ]
     },
     "execution_count": 2,
     "metadata": {},
     "output_type": "execute_result"
    }
   ],
   "source": [
    "music_sample_size = 479232\n",
    "sample_frequency = 16000\n",
    "batch_size = 6\n",
    "\n",
    "function load_data()\n",
    "    X = Array{Array{Float32,1},1}()\n",
    "    for musician in [\"satriani\"]\n",
    "        for sample in readdir(\"/mnt/data/other/music_samples/processed/$(musician)\")\n",
    "            values_raw, fq = wavread(\"/mnt/data/other/music_samples/processed/$(musician)/$(sample)\")\n",
    "            if length(values_raw[:,1]) >= music_sample_size\n",
    "                push!(X, values_raw[:,1][1:music_sample_size])\n",
    "            end\n",
    "        end\n",
    "    end\n",
    "    Array{Float32,2}(hcat(X...))\n",
    "end\n",
    "\n",
    "X = load_data()"
   ]
  },
  {
   "cell_type": "markdown",
   "metadata": {},
   "source": [
    "We don't need labels anymore, since we only need to label \"fake\" and \"real\" and all the samples are real"
   ]
  },
  {
   "cell_type": "code",
   "execution_count": 4,
   "metadata": {},
   "outputs": [
    {
     "data": {
      "text/plain": [
       "create_generator (generic function with 1 method)"
      ]
     },
     "execution_count": 4,
     "metadata": {},
     "output_type": "execute_result"
    }
   ],
   "source": [
    "function create_discriminator()\n",
    "    samples = music_sample_size\n",
    "    Weights = [\n",
    "        xavier(Float32,Int64(samples*2/(3*512)),samples),\n",
    "        xavier(Float32,Int64(samples/1024),Int64(samples*2/(3*512))), \n",
    "        xavier(Float32,Int64(samples/2048),Int64(samples/1024)), \n",
    "        xavier(Float32,2,Int64(samples/2048))\n",
    "    ]\n",
    "    Biases = [\n",
    "        zeros(Float32,samples*2/(3*512),1),\n",
    "        zeros(Float32,samples/1024,1),\n",
    "        zeros(Float32,samples/2048,1),\n",
    "        zeros(Float32,2,1)\n",
    "    ]\n",
    "    Model = Any[]\n",
    "    for i = 1:length(Weights)\n",
    "        push!(Model, Weights[i])\n",
    "        push!(Model, Biases[i])\n",
    "    end\n",
    "    Model\n",
    "end\n",
    "\n",
    "function create_generator()\n",
    "    granularity = 64\n",
    "    oscilators = 80\n",
    "    samples = music_sample_size\n",
    "    Weights = [\n",
    "        xavier(Float32,Int64(oscilators * granularity), Int64(oscilators * granularity)),\n",
    "        xavier(Float32,Int64(oscilators * granularity / 2), Int64(oscilators * granularity)), \n",
    "        xavier(Float32,Int64(oscilators * granularity / 4), Int64(oscilators * granularity / 2)), \n",
    "        xavier(Float32,music_sample_size, Int64(oscilators * granularity / 4)),\n",
    "        #xavier(Float32,Int64(oscilators * granularity), Int64(oscilators * granularity / 4))\n",
    "    ]\n",
    "    Biases = [\n",
    "        xavier(Float32,Int64(oscilators * granularity), 1),\n",
    "        xavier(Float32,Int64(oscilators * granularity / 2), 1),\n",
    "        xavier(Float32,Int64(oscilators * granularity / 4), 1),\n",
    "        xavier(Float32,music_sample_size, 1)\n",
    "        #xavier(Float32,Int64(oscilators * granularity), 1)\n",
    "    ]\n",
    "    Model = Any[]\n",
    "    for i = 1:length(Weights)\n",
    "        push!(Model, Weights[i])\n",
    "        push!(Model, Biases[i])\n",
    "    end\n",
    "    Model\n",
    "end"
   ]
  },
  {
   "cell_type": "code",
   "execution_count": 6,
   "metadata": {},
   "outputs": [
    {
     "data": {
      "text/plain": [
       "generate (generic function with 2 methods)"
      ]
     },
     "execution_count": 6,
     "metadata": {},
     "output_type": "execute_result"
    }
   ],
   "source": [
    "function discriminate(Model,X)\n",
    "    for i=1:2:length(Model) - 2\n",
    "        X = tanh.(Model[i]*X .+ Model[i+1])\n",
    "    end\n",
    "    labels = tanh.(Model[end - 1]*X .+ Model[end])\n",
    "    return labels\n",
    "end\n",
    "#=\n",
    "function generate(Model, batch_size)\n",
    "    Z = Array(randn(Float32, music_sample_size, batch_size))\n",
    "    for i=1:2:length(Model) - 2\n",
    "        Z = tanh.(Model[i]*Z .+ Model[i+1])\n",
    "    end\n",
    "    labels = tanh.(Model[end - 1]*Z .+ Model[end])\n",
    "    return labels\n",
    "end\n",
    "=#\n",
    "granularity = 64\n",
    "oscilators = 80\n",
    "function generate(Model, Z=nothing; nr_smaples=6)\n",
    "    if Z == nothing\n",
    "       Z = Array(xavier(Float32, granularity*oscilators, nr_smaples)) \n",
    "    end\n",
    "    for i=1:2:length(Model) - 2\n",
    "        Z = tanh.(Model[i]*Z .+ Model[i+1])\n",
    "    end\n",
    "    Z = tanh.(Model[end - 1]*Z .+ Model[end])\n",
    "    Z\n",
    "    #=\n",
    "    samples = Array(zeros(Float32, music_sample_size, 1))\n",
    "    \n",
    "    vals = [] \n",
    "    for sample_nr=0:oscilators:oscilators*(granularity - 1)\n",
    "        push!(vals, Z[(sample_nr + 1):(sample_nr + oscilators)])        \n",
    "    end\n",
    "    \n",
    "    for si=1:music_sample_size\n",
    "        oi = 1\n",
    "        for v in vals[Int64(round(1 + si/music_sample_size * (granularity -1) ))]\n",
    "            samples[si] += sin(si*(oi^(2.3))/16000)*v\n",
    "            oi += 1\n",
    "        end\n",
    "        samples[si] = samples[si]/oscilators\n",
    "    end\n",
    "    println(\"Trying to deliver samples\")\n",
    "    hcat([]...)\n",
    "    =#\n",
    "end"
   ]
  },
  {
   "cell_type": "code",
   "execution_count": 7,
   "metadata": {},
   "outputs": [
    {
     "name": "stdout",
     "output_type": "stream",
     "text": [
      "Started training for epoch: 1\n"
     ]
    },
    {
     "ename": "LoadError",
     "evalue": "\u001b[91mDimensionMismatch(\"dimensions must match\")\u001b[39m",
     "output_type": "error",
     "traceback": [
      "\u001b[91mDimensionMismatch(\"dimensions must match\")\u001b[39m",
      "",
      "Stacktrace:",
      " [1] \u001b[1mpromote_shape\u001b[22m\u001b[22m\u001b[1m(\u001b[22m\u001b[22m::Tuple{Base.OneTo{Int64},Base.OneTo{Int64}}, ::Tuple{Base.OneTo{Int64},Base.OneTo{Int64}}\u001b[1m)\u001b[22m\u001b[22m at \u001b[1m./indices.jl:79\u001b[22m\u001b[22m",
      " [2] \u001b[1m+\u001b[22m\u001b[22m\u001b[1m(\u001b[22m\u001b[22m::Array{Float32,2}, ::Array{Float32,2}\u001b[1m)\u001b[22m\u001b[22m at \u001b[1m./arraymath.jl:38\u001b[22m\u001b[22m",
      " [3] \u001b[1m(::AutoGrad.##rfun#7#10{Base.#+})\u001b[22m\u001b[22m\u001b[1m(\u001b[22m\u001b[22m::Array{Any,1}, ::Function, ::AutoGrad.Rec{Array{Float32,2}}, ::Vararg{AutoGrad.Rec{Array{Float32,2}},N} where N\u001b[1m)\u001b[22m\u001b[22m at \u001b[1m/root/.julia/v0.6/AutoGrad/src/core.jl:124\u001b[22m\u001b[22m",
      " [4] \u001b[1m+\u001b[22m\u001b[22m\u001b[1m(\u001b[22m\u001b[22m::AutoGrad.Rec{Array{Float32,2}}, ::AutoGrad.Rec{Array{Float32,2}}\u001b[1m)\u001b[22m\u001b[22m at \u001b[1m./<missing>:0\u001b[22m\u001b[22m",
      " [5] \u001b[1mloss_d\u001b[22m\u001b[22m\u001b[1m(\u001b[22m\u001b[22m::AutoGrad.Rec{Array{Any,1}}, ::Array{Float32,2}, ::Array{Float32,2}\u001b[1m)\u001b[22m\u001b[22m at \u001b[1m./In[7]:4\u001b[22m\u001b[22m",
      " [6] \u001b[1mforward_pass\u001b[22m\u001b[22m\u001b[1m(\u001b[22m\u001b[22m::Function, ::Tuple{Array{Any,1},Array{Float32,2},Array{Float32,2}}, ::Array{Any,1}, ::Int64\u001b[1m)\u001b[22m\u001b[22m at \u001b[1m/root/.julia/v0.6/AutoGrad/src/core.jl:88\u001b[22m\u001b[22m",
      " [7] \u001b[1m(::AutoGrad.##gradfun#1#3{#loss_d,Int64})\u001b[22m\u001b[22m\u001b[1m(\u001b[22m\u001b[22m::Array{Any,1}, ::Function, ::Array{Any,1}, ::Vararg{Any,N} where N\u001b[1m)\u001b[22m\u001b[22m at \u001b[1m/root/.julia/v0.6/AutoGrad/src/core.jl:39\u001b[22m\u001b[22m",
      " [8] \u001b[1m(::AutoGrad.#gradfun#2)\u001b[22m\u001b[22m\u001b[1m(\u001b[22m\u001b[22m::Array{Any,1}, ::Vararg{Any,N} where N\u001b[1m)\u001b[22m\u001b[22m at \u001b[1m/root/.julia/v0.6/AutoGrad/src/core.jl:39\u001b[22m\u001b[22m",
      " [9] \u001b[1mmacro expansion\u001b[22m\u001b[22m at \u001b[1m./In[7]:28\u001b[22m\u001b[22m [inlined]",
      " [10] \u001b[1manonymous\u001b[22m\u001b[22m at \u001b[1m./<missing>:?\u001b[22m\u001b[22m"
     ]
    }
   ],
   "source": [
    "D = create_discriminator()\n",
    "G = create_generator()\n",
    "\n",
    "loss_d(D,X,X_fake) = -mean((discriminate(D,X))+(1-discriminate(D,X_fake)))/2\n",
    "∇d = grad(loss_d)\n",
    "\n",
    "loss_g(G,D) = -mean(log.( discriminate(D, generate(G, nr_smaples=2)) ))\n",
    "∇g = grad(loss_g)\n",
    "\n",
    "optimizers_d = optimizers(D, Adam)\n",
    "optimizers_g = optimizers(G, Adam)\n",
    "\n",
    "\n",
    "function save_samples(epoch)\n",
    "    samples = generate(G,nr_smaples=2)\n",
    "    for i=1:length(samples[1,:])\n",
    "        wavwrite(samples[:,i], 16000, \"/mnt/data/other/music_samples/generated/epoch-$(epoch)-nr-$(i).wav\")\n",
    "        println(\"Generated a sample !\")\n",
    "    end\n",
    "end\n",
    "\n",
    "\n",
    "for epoch=1:20\n",
    "    println(\"Started training for epoch: $(epoch)\")\n",
    "    \n",
    "    for i=1:5:(length(X) - 4)\n",
    "        \n",
    "        update!(D, ∇d(D,X[:, i:i+5],generate(G, nr_smaples=2)) , optimizers_d)\n",
    "        \n",
    "        update!(G, ∇g(G,D) , optimizers_g)\n",
    "        \n",
    "    end\n",
    "    println(\"Printing some random neurons from G: $(G[1][12])  | $(G[2][77]) | $(G[3][22]) | $(G[4][19]) And the sum of two layers: $(sum(G[1])), $(sum(G[6]))\")\n",
    "    println(\"Printing some random neurons from D: $(D[1][12])  | $(D[2][77]) | $(D[3][22]) | $(D[4][19]) And the sum of two layers: $(sum(D[1])), $(sum(D[6]))\")\n",
    "    println(\"Finished training epoch: $(epoch)\")\n",
    "    println(\"Got accuracy: $(accuracy(D, Dtrain, discriminate)) , on the training set\")\n",
    "    save_samples(epoch)\n",
    "    flush(STDOUT)\n",
    "end"
   ]
  },
  {
   "cell_type": "markdown",
   "metadata": {},
   "source": [
    "For how grad works, check: https://github.com/denizyuret/AutoGrad.jl/blob/master/src/core.jl\n",
    "Reference GAN: https://github.com/George3d6/GAN-70-Lines-of-Julia"
   ]
  }
 ],
 "metadata": {
  "kernelspec": {
   "display_name": "Julia 0.6.2",
   "language": "julia",
   "name": "julia-0.6"
  },
  "language_info": {
   "file_extension": ".jl",
   "mimetype": "application/julia",
   "name": "julia",
   "version": "0.6.2"
  }
 },
 "nbformat": 4,
 "nbformat_minor": 2
}
